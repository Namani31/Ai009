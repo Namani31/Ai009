{
 "cells": [
  {
   "cell_type": "code",
   "execution_count": 1,
   "id": "db05c19b",
   "metadata": {},
   "outputs": [
    {
     "name": "stdout",
     "output_type": "stream",
     "text": [
      "Collecting webdriver_manager\n",
      "  Downloading webdriver_manager-3.8.5-py2.py3-none-any.whl (27 kB)\n",
      "Requirement already satisfied: tqdm in c:\\users\\kwg53\\anaconda3\\lib\\site-packages (from webdriver_manager) (4.64.1)\n",
      "Collecting python-dotenv\n",
      "  Downloading python_dotenv-1.0.0-py3-none-any.whl (19 kB)\n",
      "Requirement already satisfied: requests in c:\\users\\kwg53\\anaconda3\\lib\\site-packages (from webdriver_manager) (2.28.1)\n",
      "Requirement already satisfied: packaging in c:\\users\\kwg53\\anaconda3\\lib\\site-packages (from webdriver_manager) (21.3)\n",
      "Requirement already satisfied: pyparsing!=3.0.5,>=2.0.2 in c:\\users\\kwg53\\anaconda3\\lib\\site-packages (from packaging->webdriver_manager) (3.0.9)\n",
      "Requirement already satisfied: urllib3<1.27,>=1.21.1 in c:\\users\\kwg53\\appdata\\roaming\\python\\python39\\site-packages (from requests->webdriver_manager) (1.26.15)\n",
      "Requirement already satisfied: charset-normalizer<3,>=2 in c:\\users\\kwg53\\anaconda3\\lib\\site-packages (from requests->webdriver_manager) (2.0.4)\n",
      "Requirement already satisfied: certifi>=2017.4.17 in c:\\users\\kwg53\\anaconda3\\lib\\site-packages (from requests->webdriver_manager) (2022.12.7)\n",
      "Requirement already satisfied: idna<4,>=2.5 in c:\\users\\kwg53\\anaconda3\\lib\\site-packages (from requests->webdriver_manager) (3.3)\n",
      "Requirement already satisfied: colorama in c:\\users\\kwg53\\anaconda3\\lib\\site-packages (from tqdm->webdriver_manager) (0.4.5)\n",
      "Installing collected packages: python-dotenv, webdriver_manager\n",
      "Successfully installed python-dotenv-1.0.0 webdriver_manager-3.8.5\n"
     ]
    }
   ],
   "source": [
    "!pip install webdriver_manager"
   ]
  },
  {
   "cell_type": "code",
   "execution_count": 2,
   "id": "eb7b9d6d",
   "metadata": {},
   "outputs": [
    {
     "name": "stdout",
     "output_type": "stream",
     "text": [
      "Collecting webdriver-auto-update\n",
      "  Downloading webdriver_auto_update-0.1.0-py3-none-any.whl (4.0 kB)\n",
      "Collecting wget\n",
      "  Downloading wget-3.2.zip (10 kB)\n",
      "  Preparing metadata (setup.py): started\n",
      "  Preparing metadata (setup.py): finished with status 'done'\n",
      "Requirement already satisfied: requests in c:\\users\\kwg53\\anaconda3\\lib\\site-packages (from webdriver-auto-update) (2.28.1)\n",
      "Requirement already satisfied: urllib3<1.27,>=1.21.1 in c:\\users\\kwg53\\appdata\\roaming\\python\\python39\\site-packages (from requests->webdriver-auto-update) (1.26.15)\n",
      "Requirement already satisfied: idna<4,>=2.5 in c:\\users\\kwg53\\anaconda3\\lib\\site-packages (from requests->webdriver-auto-update) (3.3)\n",
      "Requirement already satisfied: certifi>=2017.4.17 in c:\\users\\kwg53\\anaconda3\\lib\\site-packages (from requests->webdriver-auto-update) (2022.12.7)\n",
      "Requirement already satisfied: charset-normalizer<3,>=2 in c:\\users\\kwg53\\anaconda3\\lib\\site-packages (from requests->webdriver-auto-update) (2.0.4)\n",
      "Building wheels for collected packages: wget\n",
      "  Building wheel for wget (setup.py): started\n",
      "  Building wheel for wget (setup.py): finished with status 'done'\n",
      "  Created wheel for wget: filename=wget-3.2-py3-none-any.whl size=9657 sha256=12e6a77459f7514144fd6bab3ee2172d5426dfbb1dbf279da49d1719dec0ab37\n",
      "  Stored in directory: c:\\users\\kwg53\\appdata\\local\\pip\\cache\\wheels\\04\\5f\\3e\\46cc37c5d698415694d83f607f833f83f0149e49b3af9d0f38\n",
      "Successfully built wget\n",
      "Installing collected packages: wget, webdriver-auto-update\n",
      "Successfully installed webdriver-auto-update-0.1.0 wget-3.2\n"
     ]
    }
   ],
   "source": [
    "!pip install webdriver-auto-update"
   ]
  },
  {
   "cell_type": "code",
   "execution_count": 3,
   "id": "6e7ecdd5",
   "metadata": {},
   "outputs": [
    {
     "name": "stdout",
     "output_type": "stream",
     "text": [
      "Requirement already satisfied: selenium in c:\\users\\kwg53\\anaconda3\\lib\\site-packages (4.8.2)\n",
      "Requirement already satisfied: certifi>=2021.10.8 in c:\\users\\kwg53\\anaconda3\\lib\\site-packages (from selenium) (2022.12.7)\n",
      "Requirement already satisfied: trio-websocket~=0.9 in c:\\users\\kwg53\\anaconda3\\lib\\site-packages (from selenium) (0.9.2)\n",
      "Requirement already satisfied: urllib3[socks]~=1.26 in c:\\users\\kwg53\\appdata\\roaming\\python\\python39\\site-packages (from selenium) (1.26.15)\n",
      "Requirement already satisfied: trio~=0.17 in c:\\users\\kwg53\\anaconda3\\lib\\site-packages (from selenium) (0.22.0)\n",
      "Requirement already satisfied: sortedcontainers in c:\\users\\kwg53\\anaconda3\\lib\\site-packages (from trio~=0.17->selenium) (2.4.0)\n",
      "Requirement already satisfied: outcome in c:\\users\\kwg53\\anaconda3\\lib\\site-packages (from trio~=0.17->selenium) (1.2.0)\n",
      "Requirement already satisfied: exceptiongroup>=1.0.0rc9 in c:\\users\\kwg53\\anaconda3\\lib\\site-packages (from trio~=0.17->selenium) (1.1.1)\n",
      "Requirement already satisfied: sniffio in c:\\users\\kwg53\\anaconda3\\lib\\site-packages (from trio~=0.17->selenium) (1.2.0)\n",
      "Requirement already satisfied: attrs>=19.2.0 in c:\\users\\kwg53\\anaconda3\\lib\\site-packages (from trio~=0.17->selenium) (21.4.0)\n",
      "Requirement already satisfied: async-generator>=1.9 in c:\\users\\kwg53\\anaconda3\\lib\\site-packages (from trio~=0.17->selenium) (1.10)\n",
      "Requirement already satisfied: cffi>=1.14 in c:\\users\\kwg53\\anaconda3\\lib\\site-packages (from trio~=0.17->selenium) (1.15.1)\n",
      "Requirement already satisfied: idna in c:\\users\\kwg53\\anaconda3\\lib\\site-packages (from trio~=0.17->selenium) (3.3)\n",
      "Requirement already satisfied: wsproto>=0.14 in c:\\users\\kwg53\\anaconda3\\lib\\site-packages (from trio-websocket~=0.9->selenium) (1.2.0)\n",
      "Requirement already satisfied: PySocks!=1.5.7,<2.0,>=1.5.6 in c:\\users\\kwg53\\anaconda3\\lib\\site-packages (from urllib3[socks]~=1.26->selenium) (1.7.1)\n",
      "Requirement already satisfied: pycparser in c:\\users\\kwg53\\anaconda3\\lib\\site-packages (from cffi>=1.14->trio~=0.17->selenium) (2.21)\n",
      "Requirement already satisfied: h11<1,>=0.9.0 in c:\\users\\kwg53\\anaconda3\\lib\\site-packages (from wsproto>=0.14->trio-websocket~=0.9->selenium) (0.14.0)\n"
     ]
    }
   ],
   "source": [
    "!pip install selenium"
   ]
  },
  {
   "cell_type": "code",
   "execution_count": 7,
   "id": "9203926f",
   "metadata": {},
   "outputs": [
    {
     "name": "stdout",
     "output_type": "stream",
     "text": [
      "3.9.13\n"
     ]
    }
   ],
   "source": [
    "import platform\n",
    "print (platform.python_version())"
   ]
  },
  {
   "cell_type": "code",
   "execution_count": 1,
   "id": "fe2895bf",
   "metadata": {},
   "outputs": [
    {
     "name": "stdout",
     "output_type": "stream",
     "text": [
      "3.141.0\n"
     ]
    }
   ],
   "source": [
    "import selenium\n",
    "print(selenium.__version__)"
   ]
  },
  {
   "cell_type": "code",
   "execution_count": null,
   "id": "8341777f",
   "metadata": {},
   "outputs": [],
   "source": [
    "from selenium import webdriver  # 웹수집 자동화를 위한 크롬 드라이버 호출\n",
    "from selenium.webdriver.common.keys import Keys\n",
    "from webdriver_manager.chrome import ChromeDriverManager #추가한 코드\n",
    "from selenium.webdriver.common.by import By #추가한 코드\n",
    "import time, os\n",
    "import urllib.request\n",
    "\n",
    "#driver = webdriver.Chrome('c:\\\\RPY\\\\chromedriver.exe')  # 크롬드라이버 위치 (크롬버전확인)\n",
    "\n",
    "#시크릿 모드가는 창 \n",
    "chrome_options = webdriver.ChromeOptions()  # webdriver의 크롬 옵션 객체 생성\n",
    "chrome_options.add_argument(\"--incognito\")  # 크롬 옵션에 시크릿 모드 추가\n",
    "driver = webdriver.Chrome(\"C:/RPY/chromedriver.exe\", options=chrome_options) # 위에서 만든 크롬 옵션을 적용하여 크롬창 생성\n",
    "\n",
    "driver.get(\"https://www.google.co.kr/imghp?hl=ko&tab=wi&authuser=0&ogbl\")\n",
    "\n",
    "\n",
    "\n",
    "#elem = driver.find_element_by_name(\"q\") 수정 전\n",
    "elem = driver.find_element(By.NAME, \"q\") #수정 후\n",
    "\n",
    "elem.send_keys(\"안 까먹는법 연상법\")\n",
    "elem.send_keys(Keys.RETURN)\n",
    "\n",
    "os.makedirs('안 까먹는법 연상법', exist_ok=True)\n",
    "\n",
    "SCROLL_PAUSE_TIME = 1\n",
    "# Get scroll height\n",
    "last_height = driver.execute_script(\"return document.body.scrollHeight\")\n",
    "while True:\n",
    "    # Scroll down to bottom\n",
    "    driver.execute_script(\"window.scrollTo(0, document.body.scrollHeight);\")\n",
    "    # Wait to load page\n",
    "    time.sleep(SCROLL_PAUSE_TIME)\n",
    "    # Calculate new scroll height and compare with last scroll height\n",
    "    new_height = driver.execute_script(\"return document.body.scrollHeight\")\n",
    "    if new_height == last_height:\n",
    "        try:\n",
    "            #수정 전 코드\n",
    "            #driver.find_element_by_css_selector(\".mye4qd\").click()\n",
    "            \n",
    "            #수정 후 코드\n",
    "            driver.find_element(By.CSS_SELECTOR, '.mye4qd').click()\n",
    "        except:\n",
    "            break\n",
    "    last_height = new_height\n",
    "\n",
    "#images = driver.find_elements_by_css_selector(\".rg_i.Q4LuWd\")#수정 전\n",
    "images = driver.find_elements(By.CSS_SELECTOR, '.rg_i.Q4LuWd')#수정 후\n",
    "\n",
    "count = 1\n",
    "for image in images:\n",
    "    try:\n",
    "        image.click()\n",
    "        time.sleep(2)\n",
    "        \n",
    "        #imgUrl = driver.find_element_by_xpath('/html/body/div[2]/c-wiz/div[3]/div[2]/div[3]/div/div/div[3]/div[2]/c-wiz/div[1]/div[1]/div/div[2]/a/img').get_attribute(\"src\") 수정\n",
    "        \n",
    "        imgUrl = driver.find_element(By.CSS_SELECTOR, \".n3VNCb.KAlRDb\").get_attribute(\"src\")\n",
    "        \n",
    "        opener=urllib.request.build_opener()\n",
    "        opener.addheaders=[('User-Agent','Mozilla/5.0 (Windows NT 6.1; WOW64) AppleWebKit/537.36 (KHTML, like Gecko) Chrome/36.0.1941.0 Safari/537.36')]\n",
    "        urllib.request.install_opener(opener)\n",
    "        urllib.request.urlretrieve(imgUrl, '안 까먹는법 연상법/'+ str(count) + \".jpg\")\n",
    "        count = count + 1\n",
    "    except:\n",
    "        pass\n",
    "\n",
    "driver.close()"
   ]
  },
  {
   "cell_type": "code",
   "execution_count": null,
   "id": "0600b725",
   "metadata": {},
   "outputs": [],
   "source": []
  }
 ],
 "metadata": {
  "kernelspec": {
   "display_name": "Python 3 (ipykernel)",
   "language": "python",
   "name": "python3"
  },
  "language_info": {
   "codemirror_mode": {
    "name": "ipython",
    "version": 3
   },
   "file_extension": ".py",
   "mimetype": "text/x-python",
   "name": "python",
   "nbconvert_exporter": "python",
   "pygments_lexer": "ipython3",
   "version": "3.9.13"
  }
 },
 "nbformat": 4,
 "nbformat_minor": 5
}
